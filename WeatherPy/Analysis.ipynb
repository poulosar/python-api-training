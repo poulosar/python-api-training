{
 "cells": [
  {
   "cell_type": "markdown",
   "metadata": {},
   "source": [
    "# Analysis\n",
    "\n",
    "\n",
    "## WeatherPy\n",
    "\n",
    "1. In the figure labeled \"Temperature v. Latitude\" We can see quite a strong correlation between latitude position and the average temperature. The further you are from the equator, the higher the likelyhood that the temperature will be lower. This is due to the tilt of the earth at 23.5 Degrees. An interesting note about this is that it appears to be skewed about 20 Degrees north where the highest average temperatures are. This is likely due to there simply being less water and more land in the northern hemisphere. Water has a high specific heat meaning it will absorb more thermal energy than a landmass. This coupled with the tilt will favor the Northern hemisphere for higher temperatures.\n",
    "\n",
    "\n",
    "2. Another figure \"Northern Hemisphere Cloudiness % vs latitude. Thia shows no stron correlation between the two but it is worth noting that at the ~30 - 55 Degree latitude marks, there appears to be a higher than usual cohncentration of low cloudiness %. This can likely be explained by the \"Trade Winds\" and the  \"Westerlies\". These are wind patterns that are quite consistent on the earth. On the north and south poles, the Westerly winds blow from West to East and eventually cycle back to the Equator. The Trade winds blow with some odd patterns but generally blow from West to East and are concentrated closer to the Equator.  \n",
    "\n",
    "\n",
    "3. The last figure that caught my attention was \"Northern Hemisphere Wind Speed (mph) vs Latitude. While the pearson coefficient was rather low for this data (-.035) it is interesting to not that as you get approache the 40 Degree mark from both north and south, it appears there is lower wind speeds and more concentrated data point. There are peaks in windspeed around 15 Degree Latitude and 68 Degree Latitude. There is likely no strong correlation here due to many other factors. For example, a beach town is typically windy due to the water bringing its own weather patters.\n",
    "\n",
    "\n",
    "4. Lastly, it is important to note that the data collected here has no historical data. All data here is from one time frame and does not take in to account factors like season. Weather systems are highly complex and introduce the possibility for the occurrance of random data.\n",
    "\n",
    "\n",
    "\n",
    "\n"
   ]
  },
  {
   "cell_type": "code",
   "execution_count": null,
   "metadata": {},
   "outputs": [],
   "source": []
  }
 ],
 "metadata": {
  "kernelspec": {
   "display_name": "Python 3",
   "language": "python",
   "name": "python3"
  },
  "language_info": {
   "codemirror_mode": {
    "name": "ipython",
    "version": 3
   },
   "file_extension": ".py",
   "mimetype": "text/x-python",
   "name": "python",
   "nbconvert_exporter": "python",
   "pygments_lexer": "ipython3",
   "version": "3.7.6"
  }
 },
 "nbformat": 4,
 "nbformat_minor": 4
}
